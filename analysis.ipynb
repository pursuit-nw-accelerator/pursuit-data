{
 "cells": [
  {
   "cell_type": "code",
   "execution_count": null,
   "id": "e2ebf6bc-d209-48d7-97e4-49dce0c0f862",
   "metadata": {},
   "outputs": [],
   "source": [
    "from datetime import datetime, timedelta\n",
    "from pyspark.sql import SparkSession\n",
    "from pyspark.sql.functions import desc, asc, max, sum, avg, col, round"
   ]
  },
  {
   "cell_type": "code",
   "execution_count": null,
   "id": "46bf07ed-b27b-4dc6-9459-23f15ef3bddc",
   "metadata": {},
   "outputs": [],
   "source": [
    "spark = SparkSession.builder.appName(\"test\").getOrCreate()"
   ]
  },
  {
   "cell_type": "code",
   "execution_count": null,
   "id": "af199f83-c4d8-4946-afa9-66a60a654579",
   "metadata": {},
   "outputs": [],
   "source": [
    "def last_n_days_df(df, n_days):\n",
    "    start = datetime.today() - timedelta(days=n_days)\n",
    "    return df.filter((df.year >= start.year) & ((df.month > start.month) | ((df.month == start.month) & (df.day >= start.day))))"
   ]
  },
  {
   "cell_type": "code",
   "execution_count": null,
   "id": "b7043d25-2a85-4c30-8a89-3a9e3bddc580",
   "metadata": {},
   "outputs": [],
   "source": [
    "def latest_week_df(df):\n",
    "    max_date = df.select(max(df.date)).first()[0]\n",
    "    return df.filter(df.date == max_date)"
   ]
  },
  {
   "cell_type": "code",
   "execution_count": null,
   "id": "9e6f00fe-b65d-4315-a461-9af911ea9476",
   "metadata": {},
   "outputs": [],
   "source": [
    "def filter_by_thresholds(df, min_points = 30, min_commits = 1):\n",
    "    above_points = df.filter(df.points >= min_points).select([\"email\", \"points\"]).sort(desc(\"points\"))\n",
    "    below_points = df.filter(df.points < min_points).select([\"email\", \"points\"]).sort(desc(\"points\"))\n",
    "    above_commits = df.filter(df.commits >= min_commits).select([\"email\", \"commits\"]).sort(desc(\"commits\"))\n",
    "    below_commits = df.filter(df.commits < min_commits).select([\"email\", \"commits\"]).sort(desc(\"commits\"))\n",
    "\n",
    "    return above_points, below_points, above_commits, below_commits"
   ]
  },
  {
   "cell_type": "code",
   "execution_count": null,
   "id": "9030c77f-6e81-4bd7-bf06-296280cb0f93",
   "metadata": {},
   "outputs": [],
   "source": [
    "def print_latest_week_stats(df):\n",
    "    latest = latest_week_df(df)\n",
    "    above_points, below_points, above_commits, below_commits = filter_by_thresholds(latest)\n",
    "    \n",
    "    print(\"=== > 30 POINTS LAST WEEK === \")\n",
    "    above_points.show(100, False)\n",
    "\n",
    "    print(\"=== > 1 COMMIT LAST WEEK === \")\n",
    "    above_commits.show(100, False)\n",
    "\n",
    "    print(\"=== LOW POINTS LAST WEEK === \")\n",
    "    below_points.sort(desc(\"points\")).show(100, False)\n",
    "\n",
    "    print(\"=== LOW COMMITS LAST WEEK === \")\n",
    "    below_commits.sort(desc(\"points\")).show(100, False)\n",
    "\n",
    "    return latest"
   ]
  },
  {
   "cell_type": "code",
   "execution_count": null,
   "id": "d7367b39-10ad-4348-8fb5-cfd759b51481",
   "metadata": {},
   "outputs": [],
   "source": [
    "def print_last_n_days_stats(df, n_days):\n",
    "    recent = last_n_days_df(df, n_days)\n",
    "    columns = { \n",
    "        \"points\": round(col(\"avg(points)\"), 2),\n",
    "        \"commits\": round(col(\"avg(commits)\"), 2) \n",
    "    }\n",
    "    recent_avgs = recent.groupBy('email') \\\n",
    "                        .agg({\"points\": \"avg\", \"commits\": \"avg\"}) \\\n",
    "                        .withColumns(columns)\n",
    "\n",
    "    above_points, below_points, above_commits, below_commits = filter_by_thresholds(recent_avgs)\n",
    "\n",
    "    print(f\"=== > 30 POINTS / WEEK LAST {n_days} DAYS ===\")\n",
    "    above_points.show(100, False)\n",
    "\n",
    "    print(f\"=== > 1 COMMIT / WEEK LAST {n_days} DAYS ===\")\n",
    "    above_commits.show(100, False)\n",
    "\n",
    "    print(f\"=== LOW POINTS LAST {n_days} DAYS ===\")\n",
    "    below_points.show(100, False)\n",
    "\n",
    "    print(f\"=== LOW COMMITS LAST {n_days} DAYS ===\")\n",
    "    below_commits.show(100, False)\n",
    "    \n",
    "    return recent_avgs.select([\"email\", \"points\", \"commits\"])"
   ]
  },
  {
   "cell_type": "code",
   "execution_count": null,
   "id": "b6171cc7-6c84-4fa2-b37f-691255ee114d",
   "metadata": {},
   "outputs": [],
   "source": [
    "def averages(df):\n",
    "    columns = {\n",
    "        \"points\": round(col(\"avg(points)\"), 2),\n",
    "        \"commits\": round(col(\"avg(commits)\"), 2)\n",
    "    }\n",
    "    return df.select(avg(\"points\"), avg(\"commits\")) \\\n",
    "             .withColumns(columns) \\\n",
    "             .select([\"points\", \"commits\"])"
   ]
  },
  {
   "cell_type": "code",
   "execution_count": null,
   "id": "86f46734-bee5-4287-8d06-c5d546a7ae19",
   "metadata": {},
   "outputs": [],
   "source": [
    "def totals_as_of_date(df, end_date):\n",
    "    columns = { \n",
    "        \"points\": round(col(\"sum(points)\"), 2),\n",
    "        \"commits\": round(col(\"sum(commits)\"), 2) \n",
    "    }\n",
    "    is_earlier_year = df.year < end_date.year\n",
    "    is_same_year_earlier_month = (df.year == end_date.year) & (df.month < end_date.month)\n",
    "    is_same_year_month_earlier_day = (df.year == end_date.year) & (df.month == end_date.month) & (df.day <= end_date.day)\n",
    "    return df.filter(is_earlier_year | is_same_year_earlier_month | is_same_year_month_earlier_day) \\\n",
    "             .groupBy('email') \\\n",
    "             .agg({ \"points\": \"sum\", \"commits\": \"sum\" }) \\\n",
    "             .withColumns(columns)\n",
    "    # return df.filter((df.year <= end_date.year) & ((df.month <= end_date.month) | ((df.month == end_date.month) & (df.day >= end_date.day))))"
   ]
  },
  {
   "cell_type": "code",
   "execution_count": null,
   "id": "e02286db-bff1-4599-8851-36d55d2b4ef3",
   "metadata": {},
   "outputs": [],
   "source": [
    "df = spark.read.parquet(\"codetrack/data\")"
   ]
  },
  {
   "cell_type": "code",
   "execution_count": null,
   "id": "4f9b8c71-602a-40bc-b18f-fc4e51057b00",
   "metadata": {},
   "outputs": [],
   "source": [
    "latest = print_latest_week_stats(df)"
   ]
  },
  {
   "cell_type": "code",
   "execution_count": null,
   "id": "22545571-c935-420f-a6be-63e5c9edc37f",
   "metadata": {},
   "outputs": [],
   "source": [
    "last_month = print_last_n_days_stats(df, 30)"
   ]
  },
  {
   "cell_type": "code",
   "execution_count": null,
   "id": "8451b9fc-9cc8-4dd0-b571-62ac8b301a5c",
   "metadata": {},
   "outputs": [],
   "source": [
    "# TODO: filter by who is attending\n",
    "print(\"=== CLASS AVERAGES, LAST WEEK ===\")\n",
    "last_week = latest_week_df(df)\n",
    "averages(last_week).show()\n",
    "\n",
    "print(\"=== CLASS AVERAGES, LAST 30 DAYS ===\")\n",
    "last_30 = last_n_days_df(df, 30)\n",
    "averages(last_30).show()"
   ]
  },
  {
   "cell_type": "code",
   "execution_count": null,
   "id": "6b8c7500-76a9-48bb-9242-f56d3d303d0f",
   "metadata": {},
   "outputs": [],
   "source": [
    "# Print total points earned up to a given date\n",
    "# and save to a csv file\n",
    "# Note that this is a sum of weekly scores which are updated at 12:00 midnight on Mondays\n",
    "# If your given date is after Monday, the total will not reflect points earned after 11:59 pm on the last Sunday.\n",
    "end_date = datetime(2024, 5, 1)\n",
    "totals = totals_as_of_date(df, end_date)\n",
    "totals.select([\"email\", \"points\", \"commits\"]).sort(asc(\"email\")).show(10000, False)\n",
    "totals.select([\"email\", \"points\", \"commits\"]).sort(asc(\"email\")).write.csv('./temp.csv')"
   ]
  },
  {
   "cell_type": "code",
   "execution_count": null,
   "id": "fdf98322-c342-4622-8854-0b06eef29f8c",
   "metadata": {},
   "outputs": [],
   "source": []
  },
  {
   "cell_type": "code",
   "execution_count": null,
   "id": "27415ae1-a2a6-4218-b53f-29eab45f3b6c",
   "metadata": {},
   "outputs": [],
   "source": []
  }
 ],
 "metadata": {
  "kernelspec": {
   "display_name": "Python 3 (ipykernel)",
   "language": "python",
   "name": "python3"
  },
  "language_info": {
   "codemirror_mode": {
    "name": "ipython",
    "version": 3
   },
   "file_extension": ".py",
   "mimetype": "text/x-python",
   "name": "python",
   "nbconvert_exporter": "python",
   "pygments_lexer": "ipython3",
   "version": "3.11.9"
  }
 },
 "nbformat": 4,
 "nbformat_minor": 5
}
